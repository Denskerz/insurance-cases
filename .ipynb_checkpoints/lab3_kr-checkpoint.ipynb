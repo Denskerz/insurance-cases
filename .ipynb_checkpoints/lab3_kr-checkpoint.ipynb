{
 "cells": [
  {
   "cell_type": "code",
   "execution_count": 26,
   "id": "934ea9ff-71ab-45f0-8d88-3572622b841a",
   "metadata": {},
   "outputs": [],
   "source": [
    "import numpy as np\n",
    "import math\n",
    "import pandas as pd\n",
    "import matplotlib.pyplot as plt\n",
    "from datetime import datetime as dt"
   ]
  },
  {
   "cell_type": "code",
   "execution_count": 27,
   "id": "d1cd200c-e07e-44d8-842a-2cd5353e773f",
   "metadata": {},
   "outputs": [],
   "source": [
    "L2018 = 'Численность на начало 2018 года'\n",
    "D2018 = 'Умерло в 2018 году'\n",
    "women = pd.read_excel('/Users/denis/education/lab-3/stat2018.xls', sheet_name='статистика', skiprows=2, usecols = 'C:D')\n",
    "women\n",
    "\n",
    "men = pd.read_excel('/Users/denis/education/lab-3/stat2018.xls', sheet_name='статистика', skiprows=2, usecols = 'G:H')\n",
    "men.columns=[L2018, D2018]"
   ]
  },
  {
   "cell_type": "code",
   "execution_count": 28,
   "id": "8d3cb385-26e7-45d2-bd95-b6a8da9bd051",
   "metadata": {},
   "outputs": [],
   "source": [
    "i_profit = 0.05\n",
    "delta = math.log(1+i_profit)\n",
    "f = 0.10"
   ]
  },
  {
   "cell_type": "code",
   "execution_count": 29,
   "id": "b291c6d2-f662-46bd-8847-bde8804f6be0",
   "metadata": {},
   "outputs": [],
   "source": [
    "def build_table(stats):\n",
    "    n = len(stats[L2018])\n",
    "    print(n)\n",
    "    mx = np.zeros(n)\n",
    "    qx = np.zeros(n)\n",
    "    dx = np.zeros(n, dtype = int)\n",
    "    lx = np.zeros(n, dtype = int)\n",
    "    \n",
    "    \n",
    "    # l0 = 100000\n",
    "    lx[0]= 100000\n",
    "    for i in range(n - 1):\n",
    "        mx[i] = stats[D2018][i]/stats[L2018][i]\n",
    "        qx[i] = 2 * mx[i]/(2 + mx[i])\n",
    "        # print(lx[i] * qx[i])\n",
    "        # print(i)\n",
    "        dx[i] = round(lx[i] * qx[i])\n",
    "        lx[i+1] = round(lx[i] - dx[i])\n",
    "    # dx = np.round(dx)\n",
    "    # lx = np.round(lx)\n",
    "    return (qx, dx, lx)"
   ]
  },
  {
   "cell_type": "code",
   "execution_count": 30,
   "id": "565b3347-a104-4782-a973-9695230b9b8c",
   "metadata": {},
   "outputs": [],
   "source": [
    "def V(t):\n",
    "    return 1/(1 + i_profit)**t\n",
    "\n",
    "def tPx(survivors, x, t):\n",
    "    if(x+t >= len(survivors)): return 0\n",
    "    return survivors[x + t]/survivors[x]\n",
    "\n",
    "def d():\n",
    "    return i_profit/(1+i_profit)\n",
    "\n",
    "def d_m(m):\n",
    "    return m * (1 - (1-d())**(1/m) )\n",
    "\n",
    "def i_m(m):\n",
    "    return m * ((1+i_profit)**(1/m) - 1)\n",
    "\n",
    "def beta(m):\n",
    "    return (i_profit - i_m(m))/ (i_m(m) * d_m(m))\n",
    "\n",
    "def alpha(m):\n",
    "    return i_profit * d()/ (i_m(m) * d_m(m))"
   ]
  },
  {
   "cell_type": "code",
   "execution_count": 31,
   "id": "f63d5dfe-1596-45a4-b494-c17fd79f7ee4",
   "metadata": {},
   "outputs": [],
   "source": [
    "### одноразовая нетто-премия лица (x) на срок n в конце года смерти (3.17)\n",
    "def A1xn(survs, x, n):\n",
    "    A = 0\n",
    "    # if x + n > len(survs): return 0\n",
    "    for k in range(n):\n",
    "        # if(k >= len(survs)): break\n",
    "        A += V(k + 1) * tPx(survs, x, k) * (1 - tPx(survs, x+k, 1))\n",
    "    return A * i_profit/delta\n",
    "\n",
    "### чистое дожитие лица (x) сроком на n лет\n",
    "def Axn1(survs, x, n):\n",
    "    return tPx(survs, x, n) * V(n)\n",
    "\n",
    "### страхование на дожитие сроком на n лет\n",
    "def Axn(survs, x, n):\n",
    "    return A1xn(survs, x, n) + Axn1(survs, x, n)"
   ]
  },
  {
   "cell_type": "code",
   "execution_count": 32,
   "id": "a183676a-3c03-4429-b0a4-8795fd4f81b7",
   "metadata": {},
   "outputs": [],
   "source": [
    "### Актуарная текущая стоимость n-летнего временного аннуитета жизни величиной 1, \n",
    "### выплачиваемой в начале каждого года, пока (x) живет (4.36 медведев)\n",
    "def _axn(survs, x, n):\n",
    "    a = 0\n",
    "    for k in range(n):\n",
    "        a += tPx(survs, x, k) * V(k)\n",
    "    return a\n"
   ]
  },
  {
   "cell_type": "code",
   "execution_count": 33,
   "id": "5fc44304-08ec-4f9e-b4c5-99dbfa07afb0",
   "metadata": {},
   "outputs": [],
   "source": [
    "### одногодичная премия на срок n \n",
    "def P1xn(survs, x, n):\n",
    "    return A1xn(survs, x, n)/_axn(survs, x, n)\n",
    "\n",
    "### одногодичная премя на читсто дожитие сроком n лет\n",
    "def Pxn1(survs, x, n):\n",
    "    return Axn1(survs, x, n)/_axn(survs, x, n)\n",
    "\n",
    "### одногодичная премия страхования дожития сроком на n лет\n",
    "def Pxn(survs, x, n):\n",
    "    return Axn(survs, x ,n)/_axn(survs, x, n)"
   ]
  },
  {
   "cell_type": "code",
   "execution_count": 34,
   "id": "a79d2149-08b1-4f8f-bf27-c861240904c3",
   "metadata": {},
   "outputs": [],
   "source": [
    "def vse_podscheti_A(survs, srok):\n",
    "    A1xn_s = np.zeros((len(survs), len(srok)+1), dtype=float)\n",
    "    Axn1_s = np.zeros((len(survs), len(srok)+1), dtype=float)\n",
    "    Axn_s = np.zeros((len(survs), len(srok)+1), dtype=float)\n",
    "    for i in range(len(survs)):\n",
    "        # A = np.zeros(len(srok) + 1, dtype=float)\n",
    "        for k in range(len(srok)):\n",
    "            A1xn_s[i][k] = A1xn(survs, i, srok[k])\n",
    "            Axn1_s[i][k] = Axn1(survs, i, srok[k])\n",
    "            Axn_s[i][k] = Axn(survs, i, srok[k])\n",
    "        A1xn_s[i][-1] = A1xn(survs, i, len(survs)+100)\n",
    "        Axn1_s[i][-1] = Axn1(survs, i, len(survs)+100)\n",
    "        Axn_s[i][-1] = Axn(survs, i, len(survs)+100)\n",
    "    \n",
    "    # A1xn_s = np.transpose(A1xn_s)\n",
    "    # Axn1_s = np.transpose(Axn1_s)\n",
    "    # Axn_s = np.transpose(Axn_s)\n",
    "    \n",
    "    g = (1-f)\n",
    "    \n",
    "    return (A1xn_s/g, Axn1_s/g, Axn_s/g)\n",
    "\n",
    "def vse_podscheti_P(survs, srok):\n",
    "    P1xn_s = np.zeros((len(survs), len(srok)+1), dtype=float)\n",
    "    Pxn1_s = np.zeros((len(survs), len(srok)+1), dtype=float)\n",
    "    Pxn_s = np.zeros((len(survs), len(srok)+1), dtype=float)\n",
    "    \n",
    "    for i in range(len(survs)):\n",
    "        # A = np.zeros(len(srok) + 1, dtype=float)\n",
    "        for k in range(len(srok)):\n",
    "            P1xn_s[i][k] = P1xn(survs, i, srok[k])\n",
    "            Pxn1_s[i][k] = Pxn1(survs, i, srok[k])\n",
    "            Pxn_s[i][k] = Pxn(survs, i, srok[k])\n",
    "        P1xn_s[i][-1] = P1xn(survs, i, len(survs)+1)\n",
    "        Pxn1_s[i][-1] = Pxn1(survs, i, len(survs)+1)\n",
    "        Pxn_s[i][-1] = Pxn(survs, i, len(survs)+1)\n",
    "    \n",
    "    # P1xn_s = np.transpose(P1xn_s)\n",
    "    # Pxn1_s = np.transpose(Pxn1_s)\n",
    "    # Pxn_s = np.transpose(Pxn_s)\n",
    "\n",
    "    g = (1-f)\n",
    "    \n",
    "    return (P1xn_s/g, Pxn1_s/g, Pxn_s/g)"
   ]
  },
  {
   "cell_type": "code",
   "execution_count": 40,
   "id": "a6829d70-41d4-45cc-b69f-2d99507d1c24",
   "metadata": {},
   "outputs": [],
   "source": [
    "def podschet(stats, gender):\n",
    "    n = 10\n",
    "    qx, dx, lx = build_table(stats)\n",
    "    srok = np.arange(1, n + 1)\n",
    "    print(srok)\n",
    "    A1xn_s, Axn1_s, Axn_s = vse_podscheti_A(lx, srok)\n",
    "    P1xn_s, Pxn1_s, Pxn_s = vse_podscheti_P(lx, srok)\n",
    "    \n",
    "    xs = np.arange(len(A1xn_s))\n",
    "    # A1xn_s = np.column_stack((A1xn_s, np.transpose(empty_v)))\n",
    "    A1xn_s = np.insert(A1xn_s, 0, np.transpose(xs), axis = 1 )\n",
    "    Axn1_s = np.insert(Axn_s, 0, np.transpose(xs), axis = 1 )\n",
    "    Axn_s = np.insert(Axn_s, 0, np.transpose(xs), axis = 1 )\n",
    "    \n",
    "    P1xn_s = np.insert(P1xn_s, 0, np.transpose(xs), axis = 1 )\n",
    "    Pxn1_s = np.insert(Pxn1_s, 0, np.transpose(xs), axis = 1 )\n",
    "    Pxn_s = np.insert(Pxn_s, 0, np.transpose(xs), axis = 1 )\n",
    "    \n",
    "    cols = np.arange(0, len(A1xn_s[0]))\n",
    "    cols[-1] = 100\n",
    "    writer = pd.ExcelWriter('/Users/denis/education/lab-3/tariffs_' + gender+'.xlsx')\n",
    "    salary_sheets = {'Таблица смертности': pd.DataFrame({'Возраст': [i for i in range(0, len(qx))],\n",
    "                                                             'qx': qx, 'dx': dx,'lx': lx,}),\n",
    "                     'Един. На срок + Пожизненное': pd.DataFrame(A1xn_s, columns = cols ),\n",
    "                     'Един. Смешанное': pd.DataFrame(Axn_s, columns = cols),\n",
    "                     'Ежег. на срок + пожизненное': pd.DataFrame(P1xn_s, columns = cols ),\n",
    "                     'Ежег. Смешанное': pd.DataFrame(Pxn_s, columns = cols),\n",
    "                     'Един дожитие ': pd.DataFrame(Pxn1_s, columns = cols),\n",
    "                     'Ежег дожитие ': pd.DataFrame(Pxn1_s, columns = cols)}\n",
    "    for sheet_n in salary_sheets.keys():\n",
    "        salary_sheets[sheet_n].to_excel(writer, sheet_name = sheet_n, index=False)\n",
    "    writer.close()\n",
    "\n",
    "    # pandas.DataFrame(A1xn_s).to_excel('C:\\\\Users\\\\admin\\\\Desktop\\\\ббб\\\\лаб 3\\\\тарифы.xlsx', sheet_name='1')\n",
    "    # pandas.DataFrame(Axn_s).to_excel('C:\\\\Users\\\\admin\\\\Desktop\\\\ббб\\\\лаб 3\\\\тарифы.xlsx', sheet_name='2')"
   ]
  },
  {
   "cell_type": "code",
   "execution_count": null,
   "id": "48219c10-b33d-43de-82c4-2ead03b2ad01",
   "metadata": {},
   "outputs": [],
   "source": []
  },
  {
   "cell_type": "code",
   "execution_count": 41,
   "id": "dd8c4ea4-b268-41db-ac82-52b75f96c616",
   "metadata": {
    "scrolled": true
   },
   "outputs": [
    {
     "name": "stdout",
     "output_type": "stream",
     "text": [
      "101\n",
      "[ 1  2  3  4  5  6  7  8  9 10]\n",
      "101\n",
      "[ 1  2  3  4  5  6  7  8  9 10]\n"
     ]
    }
   ],
   "source": [
    "podschet(men, 'men')\n",
    "podschet(women, 'women')"
   ]
  },
  {
   "cell_type": "code",
   "execution_count": 42,
   "id": "00bac179-6719-4b18-a5e2-6de5a3d10c33",
   "metadata": {},
   "outputs": [
    {
     "name": "stdout",
     "output_type": "stream",
     "text": [
      "101\n"
     ]
    },
    {
     "data": {
      "text/plain": [
       "(array([2.70145179e-03, 3.43252233e-04, 3.39007676e-04, 2.42665437e-04,\n",
       "        1.46741124e-04, 1.48835363e-04, 1.23207984e-04, 5.36236158e-05,\n",
       "        1.24116776e-04, 9.08554036e-05, 1.32853794e-04, 4.13257294e-05,\n",
       "        1.73426695e-04, 2.67498885e-04, 2.90279003e-04, 2.42951642e-04,\n",
       "        3.47350368e-04, 4.89023548e-04, 7.02703278e-04, 5.86891362e-04,\n",
       "        6.33139389e-04, 8.02031814e-04, 6.63865785e-04, 6.53716022e-04,\n",
       "        8.19802411e-04, 1.10441235e-03, 1.05377881e-03, 1.15341838e-03,\n",
       "        1.02846505e-03, 1.49525257e-03, 1.83515267e-03, 1.95062107e-03,\n",
       "        2.30237424e-03, 2.27666544e-03, 2.45460238e-03, 2.82014073e-03,\n",
       "        2.80583614e-03, 3.59586972e-03, 3.68238688e-03, 4.25047893e-03,\n",
       "        4.89049868e-03, 4.87188184e-03, 5.25195394e-03, 5.70893925e-03,\n",
       "        6.45765393e-03, 6.47424653e-03, 7.22767166e-03, 7.86485557e-03,\n",
       "        9.28805617e-03, 1.02025355e-02, 1.03731986e-02, 1.09889191e-02,\n",
       "        1.14117551e-02, 1.28706625e-02, 1.38368753e-02, 1.51769905e-02,\n",
       "        1.78163711e-02, 1.83367490e-02, 1.98084297e-02, 2.17064210e-02,\n",
       "        2.39716521e-02, 2.86682758e-02, 3.08833981e-02, 3.32003754e-02,\n",
       "        3.61426588e-02, 3.47609755e-02, 3.85833710e-02, 4.15591678e-02,\n",
       "        4.12967825e-02, 5.38964455e-02, 5.04515116e-02, 6.44783364e-02,\n",
       "        5.95154868e-02, 6.32368055e-02, 7.51275313e-02, 5.82731554e-02,\n",
       "        6.80675382e-02, 8.01893283e-02, 8.68569559e-02, 9.12995823e-02,\n",
       "        9.77275549e-02, 1.16880714e-01, 1.28397502e-01, 1.44044999e-01,\n",
       "        1.39346045e-01, 1.39790244e-01, 1.68628140e-01, 1.60260810e-01,\n",
       "        1.97289334e-01, 1.86403224e-01, 2.33813606e-01, 2.31781377e-01,\n",
       "        2.37715803e-01, 2.29508197e-01, 2.63035019e-01, 2.46994536e-01,\n",
       "        2.87822878e-01, 1.74358974e-01, 2.61538462e-01, 2.93706294e-01,\n",
       "        0.00000000e+00]),\n",
       " array([ 270,   34,   34,   24,   15,   15,   12,    5,   12,    9,   13,\n",
       "           4,   17,   27,   29,   24,   35,   49,   70,   58,   63,   80,\n",
       "          66,   65,   81,  109,  104,  114,  101,  147,  180,  191,  226,\n",
       "         222,  239,  274,  272,  348,  355,  408,  468,  463,  497,  538,\n",
       "         605,  602,  668,  722,  846,  920,  926,  971,  997, 1112, 1180,\n",
       "        1276, 1475, 1491, 1582, 1699, 1835, 2142, 2242, 2335, 2458, 2279,\n",
       "        2441, 2528, 2408, 3012, 2668, 3238, 2796, 2794, 3109, 2230, 2454,\n",
       "        2694, 2684, 2576, 2506, 2704, 2623, 2565, 2124, 1833, 1903, 1503,\n",
       "        1554, 1179, 1203,  913,  720,  530,  468,  324,  284,  122,  152,\n",
       "         126,    0]),\n",
       " array([100000,  99730,  99696,  99662,  99638,  99623,  99608,  99596,\n",
       "         99591,  99579,  99570,  99557,  99553,  99536,  99509,  99480,\n",
       "         99456,  99421,  99372,  99302,  99244,  99181,  99101,  99035,\n",
       "         98970,  98889,  98780,  98676,  98562,  98461,  98314,  98134,\n",
       "         97943,  97717,  97495,  97256,  96982,  96710,  96362,  96007,\n",
       "         95599,  95131,  94668,  94171,  93633,  93028,  92426,  91758,\n",
       "         91036,  90190,  89270,  88344,  87373,  86376,  85264,  84084,\n",
       "         82808,  81333,  79842,  78260,  76561,  74726,  72584,  70342,\n",
       "         68007,  65549,  63270,  60829,  58301,  55893,  52881,  50213,\n",
       "         46975,  44179,  41385,  38276,  36046,  33592,  30898,  28214,\n",
       "         25638,  23132,  20428,  17805,  15240,  13116,  11283,   9380,\n",
       "          7877,   6323,   5144,   3941,   3028,   2308,   1778,   1310,\n",
       "           986,    702,    580,    428,    302]))"
      ]
     },
     "execution_count": 42,
     "metadata": {},
     "output_type": "execute_result"
    }
   ],
   "source": [
    "# # Сброс ограничений на количество выводимых рядов\n",
    "pd.set_option('display.max_rows', 10)\n",
    " \n",
    "# Сброс ограничений на число столбцов\n",
    "pd.set_option('display.max_columns', None)\n",
    " \n",
    "# Сброс ограничений на количество символов в записи\n",
    "pd.set_option('display.max_colwidth', None)\n",
    "build_table(men)"
   ]
  },
  {
   "cell_type": "code",
   "execution_count": null,
   "id": "1088e2ce",
   "metadata": {},
   "outputs": [],
   "source": []
  }
 ],
 "metadata": {
  "kernelspec": {
   "display_name": "Python 3 (ipykernel)",
   "language": "python",
   "name": "python3"
  },
  "language_info": {
   "codemirror_mode": {
    "name": "ipython",
    "version": 3
   },
   "file_extension": ".py",
   "mimetype": "text/x-python",
   "name": "python",
   "nbconvert_exporter": "python",
   "pygments_lexer": "ipython3",
   "version": "3.11.5"
  }
 },
 "nbformat": 4,
 "nbformat_minor": 5
}
